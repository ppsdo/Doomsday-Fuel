{
 "cells": [
  {
   "cell_type": "code",
   "execution_count": 1,
   "id": "a181af69-0fbb-4563-9aba-db881a50c678",
   "metadata": {
    "tags": []
   },
   "outputs": [],
   "source": [
    "import numpy as np\n",
    "from fractions import Fraction\n",
    "\n",
    "def solution(m):\n",
    "    # General strategy:\n",
    "    # For each terminal state, make a system of equations using the recurrence relation for each state\n",
    "    \n",
    "    # P(s0->st) = P(s0->s0)*P(s0->st) + P(s0->s1)*P(s1->st) + ... + P(s0->sn)*P(sn->st)\n",
    "    # P(s1->st) = P(s1->s0)*P(s0->st) + P(s1->s1)*P(s1->st) + ... + P(s1->sn)*P(sn->st)\n",
    "    # ...\n",
    "    # P(sn->st) = P(sn->s0)*P(s0->st) + ... + P(sn->sn)*P(sn->st)\n",
    "    \n",
    "    m_np = np.array(m)\n",
    "    \n",
    "    # Get the terminal states: P(si->si) = 1 <--> all of weight into diagonals\n",
    "    terminal_states = []\n",
    "    for i in range(m_np.shape[0]):\n",
    "        if m_np[i, i].astype(int) == m_np[i].sum().astype(int):\n",
    "            terminal_states.append(i)\n",
    "            \n",
    "    probs = np.array([])\n",
    "    if 0 in terminal_states:\n",
    "        for t in terminal_states:\n",
    "            if t == 0:\n",
    "                probs = np.append(probs, 1)\n",
    "            else:\n",
    "                probs = np.append(probs, 0)\n",
    "        probs = np.append(probs, 1)\n",
    "        return list(probs.astype(int))\n",
    "    \n",
    "    for t in terminal_states:\n",
    "        if t == 0:\n",
    "            continue\n",
    "        m_np[t, :] = np.zeros( (1, m_np.shape[0]) ).astype(int)\n",
    "    \n",
    "    for t in terminal_states:\n",
    "        rref_matrix = rref(create_matrix(m_np, t)) # first line of the rref matrix tells you P(s0->s_target)\n",
    "        probs = np.append(probs, rref_matrix[0][-1])\n",
    "        # print(np.array(rref_matrix).astype(float))\n",
    "    \n",
    "    # Convert our probabilities into the right format\n",
    "    if len(probs) >= 2:\n",
    "        denom_lcm = int(max([lcm(probs[i].denominator, probs[i+1].denominator) for i in range(len(probs) - 1)]))\n",
    "    else:\n",
    "        denom_lcm = int(probs[0])\n",
    "    ans = []\n",
    "    ans = [int(denom_lcm / f.denominator * f.numerator) for f in probs]\n",
    "    ans.append(denom_lcm)\n",
    "    \n",
    "    return ans\n",
    "\n",
    "def rref(B):\n",
    "    # https://gist.github.com/sgsfak/77a1c08ac8a9b0af77393b24e44c9547\n",
    "    A = B.copy()\n",
    "    rows, cols = A.shape\n",
    "    r = 0\n",
    "    pivots_pos = []\n",
    "    row_exchanges = np.arange(rows)\n",
    "    for c in range(cols):\n",
    "        \n",
    "        # Find the pivot row:\n",
    "        pivot = np.argmax (np.abs (A[r:rows, c])) + r\n",
    "        m = np.abs(A[pivot, c])\n",
    "        if m <= 1e-8:\n",
    "            # Skip column c, making sure the approximately zero terms are actually zero.\n",
    "            A[r:rows, c] = np.zeros(rows - r)\n",
    "        else:\n",
    "            # Keep track of bound variables\n",
    "            pivots_pos.append((r, c))\n",
    "            if pivot != r:\n",
    "                A[[pivot, r], c:cols] = A[[r, pivot], c:cols]\n",
    "                row_exchanges[[pivot, r]] = row_exchanges[[r, pivot]]\n",
    "                \n",
    "            # Normalize pivot row\n",
    "            A[r, c:cols] = A[r, c:cols] / A[r, c]\n",
    "            \n",
    "            # Eliminate the current column\n",
    "            v = A[r, c:cols]\n",
    "            # Above (below row r):\n",
    "            if r > 0:\n",
    "                ridx_above = np.arange(r)\n",
    "                A[ridx_above, c:cols] = A[ridx_above, c:cols] - np.outer(v, A[ridx_above, c]).T\n",
    "                \n",
    "            # Below (after row r):\n",
    "            if r < rows - 1:\n",
    "                ridx_below = np.arange(r + 1, rows)\n",
    "                A[ridx_below, c:cols] = A[ridx_below, c:cols] - np.outer(v, A[ridx_below, c]).T\n",
    "                \n",
    "            r += 1\n",
    "            \n",
    "        # Check if done\n",
    "        if r == rows:\n",
    "            break;\n",
    "        \n",
    "    return A\n",
    "\n",
    "def gcd(x, y):\n",
    "   \n",
    "    while(y):\n",
    "        x, y = y, x % y\n",
    "    return abs(x)\n",
    "\n",
    "def lcm(x, y):\n",
    "    return x * y / gcd(x, y)\n",
    "\n",
    "def normalize(array):\n",
    "    # Also functions as a Fraction converter\n",
    "    s = sum(array)\n",
    "    if s <= 0:\n",
    "        s = 1\n",
    "    return np.array(list(map(lambda x: Fraction(x, s), array)))\n",
    "\n",
    "def create_matrix(experiment, target_state):\n",
    "    # Get the system of equations into a form of: Ax = b\n",
    "    experiment = np.array(experiment)\n",
    "    state_count = experiment.shape[0]\n",
    "\n",
    "    # A\n",
    "    isolated_vars = np.apply_along_axis(normalize, 1, experiment) - np.eye(state_count).astype(int)\n",
    "\n",
    "    # b\n",
    "    b = np.zeros((state_count, 1)).astype(int)\n",
    "    b[target_state] = -1\n",
    "    b = np.apply_along_axis(normalize, 1, b)\n",
    "\n",
    "    augmented_matrix = np.hstack((isolated_vars, b))\n",
    "    # augmented_matrix = np.vstack((augmented_matrix, ones))\n",
    "\n",
    "    return augmented_matrix"
   ]
  },
  {
   "cell_type": "code",
   "execution_count": 2,
   "id": "05610a24-dba6-4134-bdf6-2ac8275ef9bd",
   "metadata": {
    "tags": []
   },
   "outputs": [
    {
     "data": {
      "text/plain": [
       "[0, 3, 2, 9, 14]"
      ]
     },
     "execution_count": 2,
     "metadata": {},
     "output_type": "execute_result"
    }
   ],
   "source": [
    "# test 1\n",
    "m = [\n",
    "    [0, 1, 0, 0, 0, 1],\n",
    "    [4, 0, 0, 3, 2, 0],\n",
    "    [0, 0, 0, 0, 0, 0],\n",
    "    [0, 0, 0, 0, 0, 0],\n",
    "    [0, 0, 0, 0, 0, 0],\n",
    "    [0, 0, 0, 0, 0, 0]\n",
    "]\n",
    "solution(m)"
   ]
  },
  {
   "cell_type": "code",
   "execution_count": 3,
   "id": "557cf802-dd53-4375-afa3-ce5e55ef165b",
   "metadata": {
    "tags": []
   },
   "outputs": [
    {
     "data": {
      "text/plain": [
       "[1, 1, 2]"
      ]
     },
     "execution_count": 3,
     "metadata": {},
     "output_type": "execute_result"
    }
   ],
   "source": [
    "# test 2\n",
    "m = [\n",
    "[1, 1, 1, 1, 1,],\n",
    "[0, 0, 0, 0, 0,],\n",
    "[1, 1, 1, 1, 1,],\n",
    "[0, 0, 0, 0, 0,],\n",
    "[1, 1, 1, 1, 1,]\n",
    "]\n",
    "solution(m)"
   ]
  },
  {
   "cell_type": "code",
   "execution_count": 4,
   "id": "938f66c1-d4a1-41c3-8651-2d2db97146cd",
   "metadata": {
    "tags": []
   },
   "outputs": [
    {
     "data": {
      "text/plain": [
       "[1, 0, 1]"
      ]
     },
     "execution_count": 4,
     "metadata": {},
     "output_type": "execute_result"
    }
   ],
   "source": [
    "# test 3\n",
    "m = [\n",
    "[1, 0, 0, 0, 0,],\n",
    "[1, 1, 1, 1, 1,],\n",
    "[1, 1, 1, 1, 1,],\n",
    "[0, 0, 0, 0, 0,],\n",
    "[1, 1, 1, 1, 1,]\n",
    "]\n",
    "solution(m)"
   ]
  },
  {
   "cell_type": "code",
   "execution_count": 5,
   "id": "067ed4c3-b74c-411a-a88e-964ef9a9dd98",
   "metadata": {
    "tags": []
   },
   "outputs": [
    {
     "data": {
      "text/plain": [
       "[1, 0, 1]"
      ]
     },
     "execution_count": 5,
     "metadata": {},
     "output_type": "execute_result"
    }
   ],
   "source": [
    "# test 4\n",
    "# terminal states:\n",
    "# s0, s3\n",
    "m = [\n",
    "[100, 0, 0, 0, 0,],\n",
    "[1, 1, 1, 1, 1,],\n",
    "[1, 1, 1, 1, 1,],\n",
    "[0, 0, 0, 0, 0,],\n",
    "[1, 1, 1, 1, 1,]\n",
    "]\n",
    "solution(m)"
   ]
  },
  {
   "cell_type": "code",
   "execution_count": 6,
   "id": "a55cce7b-ab52-4a59-a458-16bcc9294876",
   "metadata": {
    "tags": []
   },
   "outputs": [
    {
     "data": {
      "text/plain": [
       "[1, 0, 1]"
      ]
     },
     "execution_count": 6,
     "metadata": {},
     "output_type": "execute_result"
    }
   ],
   "source": [
    "# test 5\n",
    "m = [\n",
    "[1, 1, 0, 0, 0,], \n",
    "[0, 1, 0, 0, 0,],\n",
    "[1, 1, 1, 1, 1,],\n",
    "[0, 0, 0, 0, 0,],\n",
    "[1, 1, 1, 1, 1,]\n",
    "]\n",
    "solution(m)\n",
    "# should be impossible to get to state 3 from state 0, so rref has no solutions for it\n",
    "# regardless, it is a terminal state"
   ]
  },
  {
   "cell_type": "code",
   "execution_count": 7,
   "id": "ab0ea92e-14fb-4eeb-a17f-fa154fe0bc8c",
   "metadata": {},
   "outputs": [
    {
     "data": {
      "text/plain": [
       "[1, 1, 2]"
      ]
     },
     "execution_count": 7,
     "metadata": {},
     "output_type": "execute_result"
    }
   ],
   "source": [
    "# test 6\n",
    "# s1, s3\n",
    "# [1, 1, 2] by inspection\n",
    "# state 1 effectively brings you to state 2. either loop back to a \"state 2 - like\" scenario or hop onto either\n",
    "m = [\n",
    "[1, 0, 1, 0, 0,], \n",
    "[0, 1, 0, 0, 0,],\n",
    "[1, 1, 1, 1, 1,],\n",
    "[0, 0, 0, 0, 0,],\n",
    "[1, 1, 1, 1, 1,]\n",
    "]\n",
    "solution(m)"
   ]
  },
  {
   "cell_type": "code",
   "execution_count": 8,
   "id": "98b70e00-cf29-4f7f-b5cc-9051a3f4cd2c",
   "metadata": {
    "tags": []
   },
   "outputs": [
    {
     "data": {
      "text/plain": [
       "[0, 1, 0, 1]"
      ]
     },
     "execution_count": 8,
     "metadata": {},
     "output_type": "execute_result"
    }
   ],
   "source": [
    "# test 7\n",
    "# [0, 1, 0 1]\n",
    "# s1, s2, s3 are the terminal states\n",
    "# s1 and s3 impossiblle to get to from s0\n",
    "m = [\n",
    "[1, 0, 1, 0, 0,], \n",
    "[0, 0, 0, 0, 0,],\n",
    "[0, 0, 1, 0, 0,],\n",
    "[0, 0, 0, 0, 0,],\n",
    "[1, 1, 1, 1, 1,]\n",
    "]\n",
    "solution(m)"
   ]
  },
  {
   "cell_type": "code",
   "execution_count": 9,
   "id": "b57daeb9-b3f1-4afc-beaa-779d81a6376a",
   "metadata": {},
   "outputs": [
    {
     "data": {
      "text/plain": [
       "[0, 0, 1, 1]"
      ]
     },
     "execution_count": 9,
     "metadata": {},
     "output_type": "execute_result"
    }
   ],
   "source": [
    "# test 8\n",
    "# terminal states:\n",
    "# s1, s2, s3\n",
    "# [0, 0, 1, 1]\n",
    "m = [\n",
    "[1, 0, 0, 1, 0,], \n",
    "[0, 0, 0, 0, 0,],\n",
    "[0, 0, 1, 0, 0,],\n",
    "[0, 0, 0, 0, 0,],\n",
    "[1, 1, 1, 1, 1,]\n",
    "]\n",
    "solution(m)"
   ]
  },
  {
   "cell_type": "code",
   "execution_count": 10,
   "id": "9e4e8b05-b438-4b78-abb5-b4d7e0da2609",
   "metadata": {
    "tags": []
   },
   "outputs": [
    {
     "data": {
      "text/plain": [
       "[1, 1]"
      ]
     },
     "execution_count": 10,
     "metadata": {},
     "output_type": "execute_result"
    }
   ],
   "source": [
    "# test 9\n",
    "m = [\n",
    "[0]\n",
    "]\n",
    "solution(m)"
   ]
  },
  {
   "cell_type": "code",
   "execution_count": 11,
   "id": "d08554c5-179d-4b14-8128-0039cc9a0430",
   "metadata": {
    "tags": []
   },
   "outputs": [
    {
     "data": {
      "text/plain": [
       "[1, 1]"
      ]
     },
     "execution_count": 11,
     "metadata": {},
     "output_type": "execute_result"
    }
   ],
   "source": [
    "# test 10\n",
    "# s1 terminal state\n",
    "# [1, 1]\n",
    "m = [\n",
    "[1, 1],\n",
    "[0, 0]\n",
    "]\n",
    "solution(m)"
   ]
  },
  {
   "cell_type": "code",
   "execution_count": 12,
   "id": "2cbf5090-7c81-4518-b301-2affafc3289e",
   "metadata": {
    "tags": []
   },
   "outputs": [
    {
     "data": {
      "text/plain": [
       "[1, 0, 1]"
      ]
     },
     "execution_count": 12,
     "metadata": {},
     "output_type": "execute_result"
    }
   ],
   "source": [
    "# test 11\n",
    "# s1 terminal state\n",
    "# [1, ]\n",
    "m = [\n",
    "[0, 0],\n",
    "[0, 0]\n",
    "]\n",
    "solution(m)"
   ]
  },
  {
   "cell_type": "code",
   "execution_count": 13,
   "id": "1fdf05c7-3d37-4e63-abc8-d6812da7af5d",
   "metadata": {
    "tags": []
   },
   "outputs": [
    {
     "data": {
      "text/plain": [
       "[1, 1]"
      ]
     },
     "execution_count": 13,
     "metadata": {},
     "output_type": "execute_result"
    }
   ],
   "source": [
    "# test 12\n",
    "# s1 terminal state\n",
    "# [1, ]\n",
    "m = [\n",
    "[0,],\n",
    "]\n",
    "solution(m)"
   ]
  },
  {
   "cell_type": "code",
   "execution_count": 14,
   "id": "1175c66d-541d-48a2-b582-9447f27cb19a",
   "metadata": {
    "tags": []
   },
   "outputs": [
    {
     "data": {
      "text/plain": [
       "[1, 0, 0, 1]"
      ]
     },
     "execution_count": 14,
     "metadata": {},
     "output_type": "execute_result"
    }
   ],
   "source": [
    "# test 13\n",
    "# s1 terminal state\n",
    "# [1, ]\n",
    "m = [\n",
    "[0, 0, 0],\n",
    "[0, 0, 0],\n",
    "[0, 0, 0]\n",
    "]\n",
    "solution(m)"
   ]
  },
  {
   "cell_type": "code",
   "execution_count": 15,
   "id": "ac070cae-dc13-41b6-8804-669db68b9bb3",
   "metadata": {
    "tags": []
   },
   "outputs": [
    {
     "data": {
      "text/plain": [
       "[1, 2, 3, 4, 5, 15]"
      ]
     },
     "execution_count": 15,
     "metadata": {},
     "output_type": "execute_result"
    }
   ],
   "source": [
    "# test 14\n",
    "# test 5 for google\n",
    "# a = [1, 2, 3, 4, 5, 15]\n",
    "m = [\n",
    "    [0, 0, 12, 0, 15, 0, 0, 0, 1, 8],\n",
    "    [0, 0, 60, 0, 0, 7, 13, 0, 0, 0],\n",
    "    [0, 15, 0, 8, 7, 0, 0, 1, 9, 0],\n",
    "    [23, 0, 0, 0, 0, 1, 0, 0, 0, 0], \n",
    "    [37, 35, 0, 0, 0, 0, 3, 21, 0, 0], \n",
    "    [0, 0, 0, 0, 0, 0, 0, 0, 0, 0], \n",
    "    [0, 0, 0, 0, 0, 0, 0, 0, 0, 0], \n",
    "    [0, 0, 0, 0, 0, 0, 0, 0, 0, 0], \n",
    "    [0, 0, 0, 0, 0, 0, 0, 0, 0, 0], \n",
    "    [0, 0, 0, 0, 0, 0, 0, 0, 0, 0]\n",
    "]\n",
    "solution(m)"
   ]
  },
  {
   "cell_type": "code",
   "execution_count": 16,
   "id": "47fbabb9-e694-4b65-83ee-05b4fd33b98c",
   "metadata": {
    "tags": []
   },
   "outputs": [
    {
     "data": {
      "text/plain": [
       "[1, 2, 3]"
      ]
     },
     "execution_count": 16,
     "metadata": {},
     "output_type": "execute_result"
    }
   ],
   "source": [
    "# test 15\n",
    "# test 3 for google\n",
    "#a = [1, 2, 3]\n",
    "m = [\n",
    "    [1, 2, 3, 0, 0, 0], \n",
    "    [4, 5, 6, 0, 0, 0], \n",
    "    [7, 8, 9, 1, 0, 0],\n",
    "    [0, 0, 0, 0, 1, 2],\n",
    "    [0, 0, 0, 0, 0, 0],\n",
    "    [0, 0, 0, 0, 0, 0]\n",
    "]\n",
    "solution(m)"
   ]
  },
  {
   "cell_type": "code",
   "execution_count": 17,
   "id": "2cf0f10a-0d69-4572-8b28-4ed9d752ee96",
   "metadata": {
    "tags": []
   },
   "outputs": [
    {
     "data": {
      "text/plain": [
       "[4, 5, 5, 4, 2, 20]"
      ]
     },
     "execution_count": 17,
     "metadata": {},
     "output_type": "execute_result"
    }
   ],
   "source": [
    "# TEST 6\n",
    "# s5, s6, s7, s8, s9\n",
    "#a = [4, 5, 5, 4, 2, 20]\n",
    "m = [\n",
    "    [ 0,  7,  0, 17,  0,  1,  0,  5,  0,  2],\n",
    "    [ 0,  0, 29,  0, 28,  0,  3,  0, 16,  0],\n",
    "    [ 0,  3,  0,  0,  0,  1,  0,  0,  0,  0], # s2\n",
    "    [48,  0,  3,  0,  0,  0, 17,  0,  0,  0], # s3\n",
    "    [ 0,  6,  0,  0,  0,  1,  0,  0,  0,  0], # s4\n",
    "    \n",
    "    [ 0,  0,  0,  0,  0,  0,  0,  0,  0,  0], # s5\n",
    "    [ 0,  0,  0,  0,  0,  0,  0,  0,  0,  0], # s6\n",
    "    [ 0,  0,  0,  0,  0,  0,  0,  0,  0,  0], # s7\n",
    "    [ 0,  0,  0,  0,  0,  0,  0,  0,  0,  0], # s8\n",
    "    [ 0,  0,  0,  0,  0,  0,  0,  0,  0,  0]] # s9\n",
    "solution(m)"
   ]
  },
  {
   "cell_type": "code",
   "execution_count": 18,
   "id": "b658b6d4-9a00-43cd-92af-d8d939efd86c",
   "metadata": {
    "tags": []
   },
   "outputs": [],
   "source": [
    "#https://pastebin.com/HAiEwnD2\n",
    "# TEST 7\n",
    "#m = [[1, 1, 1, 1, 1, 1, 1, 1, 1, 1], [0, 0, 0, 0, 0, 0, 0, 0, 0, 0], [1, 1, 1, 1, 1, 1, 1, 1, 1, 1], [0, 0, 0, 0, 0, 0, 0, 0, 0, 0], [1, 1, 1, 1, 1, 1, 1, 1, 1, 1], [0, 0, 0, 0, 0, 0, 0, 0, 0, 0], [1, 1, 1, 1, 1, 1, 1, 1, 1, 1], [0, 0, 0, 0, 0, 0, 0, 0, 0, 0], [1, 1, 1, 1, 1, 1, 1, 1, 1, 1], [0, 0, 0, 0, 0, 0, 0, 0, 0, 0]]\n",
    "#a = [1, 1, 1, 1, 1, 5]\n",
    " \n",
    "# TEST 8\n",
    "#m = [[1, 1, 1, 0, 1, 0, 1, 0, 1, 0], [0, 0, 0, 0, 0, 0, 0, 0, 0, 0], [1, 0, 1, 1, 1, 0, 1, 0, 1, 0], [0, 0, 0, 0, 0, 0, 0, 0, 0, 0], [1, 0, 1, 0, 1, 1, 1, 0, 1, 0], [0, 0, 0, 0, 0, 0, 0, 0, 0, 0], [1, 0, 1, 0, 1, 0, 1, 1, 1, 0], [0, 0, 0, 0, 0, 0, 0, 0, 0, 0], [1, 0, 1, 0, 1, 0, 1, 0, 1, 1], [0, 0, 0, 0, 0, 0, 0, 0, 0, 0]]\n",
    "#a = [2, 1, 1, 1, 1, 6]\n",
    " \n",
    "# TEST 9\n",
    "#m = [[0, 86, 61, 189, 0, 18, 12, 33, 66, 39], [0, 0, 2, 0, 0, 1, 0, 0, 0, 0], [15, 187, 0, 0, 18, 23, 0, 0, 0, 0], [1, 0, 0, 0, 0, 0, 0, 0, 0, 0], [0, 0, 0, 0, 0, 0, 0, 0, 0, 0], [0, 0, 0, 0, 0, 0, 0, 0, 0, 0], [0, 0, 0, 0, 0, 0, 0, 0, 0, 0], [0, 0, 0, 0, 0, 0, 0, 0, 0, 0], [0, 0, 0, 0, 0, 0, 0, 0, 0, 0], [0, 0, 0, 0, 0, 0, 0, 0, 0, 0]]\n",
    "#a = [6, 44, 4, 11, 22, 13, 100]\n",
    " \n",
    "# TEST 10\n",
    "#m = [[0, 0, 0, 0, 3, 5, 0, 0, 0, 2], [0, 0, 4, 0, 0, 0, 1, 0, 0, 0], [0, 0, 0, 4, 4, 0, 0, 0, 1, 1], [13, 0, 0, 0, 0, 0, 2, 0, 0, 0], [0, 1, 8, 7, 0, 0, 0, 1, 3, 0], [1, 7, 0, 0, 0, 0, 0, 2, 0, 0], [0, 0, 0, 0, 0, 0, 0, 0, 0, 0], [0, 0, 0, 0, 0, 0, 0, 0, 0, 0], [0, 0, 0, 0, 0, 0, 0, 0, 0, 0], [0, 0, 0, 0, 0, 0, 0, 0, 0, 0]]\n",
    "#a = [1, 1, 1, 2, 5]"
   ]
  },
  {
   "cell_type": "code",
   "execution_count": 19,
   "id": "d25b059d-2577-4232-8ba4-1fc32bb2b4ca",
   "metadata": {
    "tags": []
   },
   "outputs": [
    {
     "data": {
      "text/plain": [
       "[1, 1, 1, 1, 1, 5]"
      ]
     },
     "execution_count": 19,
     "metadata": {},
     "output_type": "execute_result"
    }
   ],
   "source": [
    "# TEST 7\n",
    "m = [[1, 1, 1, 1, 1, 1, 1, 1, 1, 1], [0, 0, 0, 0, 0, 0, 0, 0, 0, 0], [1, 1, 1, 1, 1, 1, 1, 1, 1, 1], [0, 0, 0, 0, 0, 0, 0, 0, 0, 0], [1, 1, 1, 1, 1, 1, 1, 1, 1, 1], [0, 0, 0, 0, 0, 0, 0, 0, 0, 0], [1, 1, 1, 1, 1, 1, 1, 1, 1, 1], [0, 0, 0, 0, 0, 0, 0, 0, 0, 0], [1, 1, 1, 1, 1, 1, 1, 1, 1, 1], [0, 0, 0, 0, 0, 0, 0, 0, 0, 0]]\n",
    "#a = [1, 1, 1, 1, 1, 5]\n",
    "solution(m)"
   ]
  },
  {
   "cell_type": "code",
   "execution_count": 20,
   "id": "48f5c2fd-690c-4309-85c2-32c372839f72",
   "metadata": {
    "tags": []
   },
   "outputs": [
    {
     "data": {
      "text/plain": [
       "[2, 1, 1, 1, 1, 6]"
      ]
     },
     "execution_count": 20,
     "metadata": {},
     "output_type": "execute_result"
    }
   ],
   "source": [
    "# TEST 8\n",
    "m = [[1, 1, 1, 0, 1, 0, 1, 0, 1, 0], [0, 0, 0, 0, 0, 0, 0, 0, 0, 0], [1, 0, 1, 1, 1, 0, 1, 0, 1, 0], [0, 0, 0, 0, 0, 0, 0, 0, 0, 0], [1, 0, 1, 0, 1, 1, 1, 0, 1, 0], [0, 0, 0, 0, 0, 0, 0, 0, 0, 0], [1, 0, 1, 0, 1, 0, 1, 1, 1, 0], [0, 0, 0, 0, 0, 0, 0, 0, 0, 0], [1, 0, 1, 0, 1, 0, 1, 0, 1, 1], [0, 0, 0, 0, 0, 0, 0, 0, 0, 0]]\n",
    "#a = [2, 1, 1, 1, 1, 6]\n",
    "solution(m)"
   ]
  },
  {
   "cell_type": "code",
   "execution_count": 21,
   "id": "1399840c-a8fc-4818-a7a7-1c5c95606daa",
   "metadata": {
    "tags": []
   },
   "outputs": [
    {
     "data": {
      "text/plain": [
       "[6, 44, 4, 11, 22, 13, 100]"
      ]
     },
     "execution_count": 21,
     "metadata": {},
     "output_type": "execute_result"
    }
   ],
   "source": [
    "# TEST 9\n",
    "m = [[0, 86, 61, 189, 0, 18, 12, 33, 66, 39], [0, 0, 2, 0, 0, 1, 0, 0, 0, 0], [15, 187, 0, 0, 18, 23, 0, 0, 0, 0], [1, 0, 0, 0, 0, 0, 0, 0, 0, 0], [0, 0, 0, 0, 0, 0, 0, 0, 0, 0], [0, 0, 0, 0, 0, 0, 0, 0, 0, 0], [0, 0, 0, 0, 0, 0, 0, 0, 0, 0], [0, 0, 0, 0, 0, 0, 0, 0, 0, 0], [0, 0, 0, 0, 0, 0, 0, 0, 0, 0], [0, 0, 0, 0, 0, 0, 0, 0, 0, 0]]\n",
    "#a = [6, 44, 4, 11, 22, 13, 100]\n",
    "solution(m)"
   ]
  },
  {
   "cell_type": "code",
   "execution_count": 22,
   "id": "1a375dbc-ed30-4028-a032-b11609414fe7",
   "metadata": {
    "tags": []
   },
   "outputs": [
    {
     "data": {
      "text/plain": [
       "[1, 1, 1, 2, 5]"
      ]
     },
     "execution_count": 22,
     "metadata": {},
     "output_type": "execute_result"
    }
   ],
   "source": [
    "# TEST 10\n",
    "m = [[0, 0, 0, 0, 3, 5, 0, 0, 0, 2], [0, 0, 4, 0, 0, 0, 1, 0, 0, 0], [0, 0, 0, 4, 4, 0, 0, 0, 1, 1], [13, 0, 0, 0, 0, 0, 2, 0, 0, 0], [0, 1, 8, 7, 0, 0, 0, 1, 3, 0], [1, 7, 0, 0, 0, 0, 0, 2, 0, 0], [0, 0, 0, 0, 0, 0, 0, 0, 0, 0], [0, 0, 0, 0, 0, 0, 0, 0, 0, 0], [0, 0, 0, 0, 0, 0, 0, 0, 0, 0], [0, 0, 0, 0, 0, 0, 0, 0, 0, 0]]\n",
    "#a = [1, 1, 1, 2, 5]\n",
    "solution(m)"
   ]
  },
  {
   "cell_type": "code",
   "execution_count": null,
   "id": "0f5291a8-bcd2-49fc-a29c-15cf6327c554",
   "metadata": {},
   "outputs": [],
   "source": []
  }
 ],
 "metadata": {
  "kernelspec": {
   "display_name": "Python 3 (ipykernel)",
   "language": "python",
   "name": "python3"
  },
  "language_info": {
   "codemirror_mode": {
    "name": "ipython",
    "version": 3
   },
   "file_extension": ".py",
   "mimetype": "text/x-python",
   "name": "python",
   "nbconvert_exporter": "python",
   "pygments_lexer": "ipython3",
   "version": "3.11.5"
  }
 },
 "nbformat": 4,
 "nbformat_minor": 5
}
